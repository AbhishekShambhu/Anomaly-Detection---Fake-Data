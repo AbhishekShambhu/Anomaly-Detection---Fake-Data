{
 "cells": [
  {
   "cell_type": "code",
   "execution_count": 4,
   "metadata": {},
   "outputs": [],
   "source": [
    "#imnport the necessary libraries\n",
    "import pandas as pd\n",
    "import numpy as np\n",
    "import matplotlib.pyplot as plt\n",
    "%matplotlib inline\n",
    "#use a predefined style plot\n",
    "plt.style.use('ggplot')"
   ]
  },
  {
   "cell_type": "code",
   "execution_count": 6,
   "metadata": {},
   "outputs": [],
   "source": [
    "#import faker\n",
    "from faker import Faker\n",
    "fake = Faker()"
   ]
  },
  {
   "cell_type": "code",
   "execution_count": 13,
   "metadata": {},
   "outputs": [],
   "source": [
    "#to ensure the results are reproducible\n",
    "fake.random.seed(4321)\n",
    "\n",
    "names_list = []\n",
    "\n",
    "fake = Faker()\n",
    "for _ in range(100):\n",
    "  names_list.append(fake.name())\n",
    "\n",
    "# To ensure the results are reproducible\n",
    "np.random.seed(7)\n",
    "\n",
    "salaries = []\n",
    "for _ in range(100):\n",
    "    salary = np.random.randint(1000,2500)\n",
    "    salaries.append(salary)"
   ]
  },
  {
   "cell_type": "code",
   "execution_count": 14,
   "metadata": {},
   "outputs": [
    {
     "name": "stdout",
     "output_type": "stream",
     "text": [
      "              Person  Salary (in USD)\n",
      "0        Jason Brown             1175\n",
      "1        Jacob Stein             2220\n",
      "2         Cody Brown             1537\n",
      "3      Larry Morales             1502\n",
      "4  Jessica Hendricks             1211\n"
     ]
    }
   ],
   "source": [
    "# Create pandas DataFrame\n",
    "salary_df = pd.DataFrame(\n",
    "    {'Person': names_list,\n",
    "     'Salary (in USD)': salaries\n",
    "    })\n",
    "\n",
    "# Print a subsection of the DataFrame\n",
    "print(salary_df.head())"
   ]
  },
  {
   "cell_type": "code",
   "execution_count": 15,
   "metadata": {},
   "outputs": [
    {
     "name": "stdout",
     "output_type": "stream",
     "text": [
      "Person             Miss Amanda Harris MD\n",
      "Salary (in USD)                       23\n",
      "Name: 16, dtype: object\n",
      "Person             Joyce Bishop\n",
      "Salary (in USD)              17\n",
      "Name: 65, dtype: object\n"
     ]
    }
   ],
   "source": [
    "salary_df.at[16, 'Salary (in USD)'] = 23\n",
    "salary_df.at[65, 'Salary (in USD)'] = 17\n",
    "\n",
    "# Verify if the salaries were changed\n",
    "print(salary_df.loc[16])\n",
    "print(salary_df.loc[65])"
   ]
  },
  {
   "cell_type": "code",
   "execution_count": 16,
   "metadata": {},
   "outputs": [
    {
     "data": {
      "image/png": "[encoded data removed]",
      "text/plain": [
       "<Figure size 432x288 with 1 Axes>"
      ]
     },
     "metadata": {},
     "output_type": "display_data"
    }
   ],
   "source": [
    "# Generate a Boxplot\n",
    "salary_df['Salary (in USD)'].plot(kind='box')\n",
    "plt.show()"
   ]
  },
  {
   "cell_type": "code",
   "execution_count": 17,
   "metadata": {},
   "outputs": [
    {
     "data": {
      "image/png": "[encoded data removed]",
      "text/plain": [
       "<Figure size 432x288 with 1 Axes>"
      ]
     },
     "metadata": {},
     "output_type": "display_data"
    }
   ],
   "source": [
    "# Generate a Histogram plot\n",
    "salary_df['Salary (in USD)'].plot(kind='hist')\n",
    "plt.show()"
   ]
  },
  {
   "cell_type": "code",
   "execution_count": 18,
   "metadata": {},
   "outputs": [
    {
     "name": "stdout",
     "output_type": "stream",
     "text": [
      "Minimum salary 17\n",
      "Maximum salary 2498\n"
     ]
    }
   ],
   "source": [
    "# Minimum and maximum salaries\n",
    "print('Minimum salary ' + str(salary_df['Salary (in USD)'].min()))\n",
    "print('Maximum salary ' + str(salary_df['Salary (in USD)'].max()))"
   ]
  },
  {
   "cell_type": "code",
   "execution_count": 20,
   "metadata": {},
   "outputs": [
    {
     "data": {
      "text/plain": [
       "array([1175, 2220, 1537, 1502, 1211, 1919, 2372, 2209, 2422, 1535, 1345,\n",
       "       1366, 1554, 1730, 1904, 2191,   23, 2456, 1391, 1940, 2099, 1823,\n",
       "       1250, 2030, 2468, 2068, 2349, 2176, 1183, 1949, 2136, 1763, 2213,\n",
       "       1290, 1312, 1201, 2486, 1550, 1772, 1494, 2161, 2219, 2096, 1944,\n",
       "       1257, 1400, 2398, 2373, 1940, 1604, 1764, 1279, 1745, 1803, 2472,\n",
       "       2341, 2415, 2175, 1092, 1759, 2248, 1356, 1931, 1481, 1579,   17,\n",
       "       1481, 2043, 1923, 1787, 1033, 2147, 2310, 1741, 1989, 2439, 2154,\n",
       "       2107, 1402, 1021, 1203, 1047, 1784, 1524, 1349, 1107, 1393, 1844,\n",
       "       1622, 1654, 1636, 1276, 1309, 1827, 1035, 1260, 1456, 2498, 2007,\n",
       "       2239])"
      ]
     },
     "execution_count": 20,
     "metadata": {},
     "output_type": "execute_result"
    }
   ],
   "source": [
    "# Convert the salary values to a numpy array\n",
    "salary_raw = salary_df['Salary (in USD)'].values\n",
    "salary_raw"
   ]
  },
  {
   "cell_type": "code",
   "execution_count": 25,
   "metadata": {},
   "outputs": [],
   "source": [
    "# For compatibility with the SciPy implementation\n",
    "salary_raw = salary_raw.reshape(-1, 1)\n",
    "salary_raw = salary_raw.astype('float64')"
   ]
  },
  {
   "cell_type": "code",
   "execution_count": 33,
   "metadata": {},
   "outputs": [],
   "source": [
    "# Import kmeans from SciPy\n",
    "from scipy import cluster\n",
    "from scipy.cluster.vq import vq, kmeans"
   ]
  },
  {
   "cell_type": "code",
   "execution_count": 34,
   "metadata": {},
   "outputs": [],
   "source": [
    "# Specify the data and the number of clusters to kmeans()\n",
    "centroids, avg_distance = kmeans(salary_raw, 4)"
   ]
  },
  {
   "cell_type": "code",
   "execution_count": 35,
   "metadata": {},
   "outputs": [],
   "source": [
    "# Get the groups (clusters) and distances\n",
    "groups, cdist = cluster.vq.vq(salary_raw, centroids)"
   ]
  },
  {
   "cell_type": "code",
   "execution_count": 36,
   "metadata": {},
   "outputs": [
    {
     "data": {
      "image/png": "[encoded data removed]",
      "text/plain": [
       "<Figure size 432x288 with 1 Axes>"
      ]
     },
     "metadata": {},
     "output_type": "display_data"
    }
   ],
   "source": [
    "plt.scatter(salary_raw, np.arange(0,100), c=groups)\n",
    "plt.xlabel('Salaries in (USD)')\n",
    "plt.ylabel('Indices')\n",
    "plt.show()"
   ]
  },
  {
   "cell_type": "code",
   "execution_count": 37,
   "metadata": {},
   "outputs": [
    {
     "name": "stdout",
     "output_type": "stream",
     "text": [
      "Person             Miss Amanda Harris MD\n",
      "Salary (in USD)                       23\n",
      "class                                  1\n",
      "Name: 16, dtype: object\n"
     ]
    }
   ],
   "source": [
    "#Anomaly detection as a Classification problem\n",
    "\n",
    "# First assign all the instances to \n",
    "salary_df['class'] = 0\n",
    "\n",
    "# Manually edit the labels for the anomalies\n",
    "salary_df.at[16, 'class'] = 1\n",
    "salary_df.at[65, 'class'] = 1\n",
    "\n",
    "# Veirfy \n",
    "print(salary_df.loc[16])"
   ]
  },
  {
   "cell_type": "code",
   "execution_count": 38,
   "metadata": {},
   "outputs": [
    {
     "data": {
      "text/html": [
       "<div>\n",
       "<style scoped>\n",
       "    .dataframe tbody tr th:only-of-type {\n",
       "        vertical-align: middle;\n",
       "    }\n",
       "\n",
       "    .dataframe tbody tr th {\n",
       "        vertical-align: top;\n",
       "    }\n",
       "\n",
       "    .dataframe thead th {\n",
       "        text-align: right;\n",
       "    }\n",
       "</style>\n",
       "<table border=\"1\" class=\"dataframe\">\n",
       "  <thead>\n",
       "    <tr style=\"text-align: right;\">\n",
       "      <th></th>\n",
       "      <th>Person</th>\n",
       "      <th>Salary (in USD)</th>\n",
       "      <th>class</th>\n",
       "    </tr>\n",
       "  </thead>\n",
       "  <tbody>\n",
       "    <tr>\n",
       "      <td>0</td>\n",
       "      <td>Jason Brown</td>\n",
       "      <td>1175</td>\n",
       "      <td>0</td>\n",
       "    </tr>\n",
       "    <tr>\n",
       "      <td>1</td>\n",
       "      <td>Jacob Stein</td>\n",
       "      <td>2220</td>\n",
       "      <td>0</td>\n",
       "    </tr>\n",
       "    <tr>\n",
       "      <td>2</td>\n",
       "      <td>Cody Brown</td>\n",
       "      <td>1537</td>\n",
       "      <td>0</td>\n",
       "    </tr>\n",
       "    <tr>\n",
       "      <td>3</td>\n",
       "      <td>Larry Morales</td>\n",
       "      <td>1502</td>\n",
       "      <td>0</td>\n",
       "    </tr>\n",
       "    <tr>\n",
       "      <td>4</td>\n",
       "      <td>Jessica Hendricks</td>\n",
       "      <td>1211</td>\n",
       "      <td>0</td>\n",
       "    </tr>\n",
       "  </tbody>\n",
       "</table>\n",
       "</div>"
      ],
      "text/plain": [
       "              Person  Salary (in USD)  class\n",
       "0        Jason Brown             1175      0\n",
       "1        Jacob Stein             2220      0\n",
       "2         Cody Brown             1537      0\n",
       "3      Larry Morales             1502      0\n",
       "4  Jessica Hendricks             1211      0"
      ]
     },
     "execution_count": 38,
     "metadata": {},
     "output_type": "execute_result"
    }
   ],
   "source": [
    "salary_df.head()"
   ]
  },
  {
   "cell_type": "code",
   "execution_count": 40,
   "metadata": {},
   "outputs": [],
   "source": [
    "# Importing KNN module from PyOD\n",
    "from pyod.models.knn import KNN"
   ]
  },
  {
   "cell_type": "code",
   "execution_count": 42,
   "metadata": {},
   "outputs": [],
   "source": [
    "# Segregate the salary values and the class labels \n",
    "X = salary_df['Salary (in USD)'].values.reshape(-1,1)\n",
    "y = salary_df['class'].values"
   ]
  },
  {
   "cell_type": "code",
   "execution_count": 43,
   "metadata": {},
   "outputs": [
    {
     "data": {
      "text/plain": [
       "KNN(algorithm='auto', contamination=0.02, leaf_size=30, method='largest',\n",
       "  metric='minkowski', metric_params=None, n_jobs=1, n_neighbors=5, p=2,\n",
       "  radius=1.0)"
      ]
     },
     "execution_count": 43,
     "metadata": {},
     "output_type": "execute_result"
    }
   ],
   "source": [
    "# Train kNN detector\n",
    "clf = KNN(contamination=0.02, n_neighbors=5)\n",
    "clf.fit(X)"
   ]
  },
  {
   "cell_type": "code",
   "execution_count": 44,
   "metadata": {},
   "outputs": [],
   "source": [
    "# Get the prediction labels of the training data\n",
    "y_train_pred = clf.labels_ "
   ]
  },
  {
   "cell_type": "code",
   "execution_count": 45,
   "metadata": {},
   "outputs": [],
   "source": [
    "# Outlier scores\n",
    "y_train_scores = clf.decision_scores_"
   ]
  },
  {
   "cell_type": "code",
   "execution_count": 46,
   "metadata": {},
   "outputs": [
    {
     "name": "stdout",
     "output_type": "stream",
     "text": [
      "KNN ROC:1.0, precision @ rank n:1.0\n"
     ]
    }
   ],
   "source": [
    "# Import the utility function for model evaluation\n",
    "from pyod.utils import evaluate_print\n",
    "\n",
    "# Evaluate on the training data\n",
    "evaluate_print('KNN', y, y_train_scores)"
   ]
  },
  {
   "cell_type": "code",
   "execution_count": 47,
   "metadata": {},
   "outputs": [],
   "source": [
    "# A salary of $37 (an anomaly right?)\n",
    "X_test = np.array([[37.]])"
   ]
  },
  {
   "cell_type": "code",
   "execution_count": 48,
   "metadata": {},
   "outputs": [
    {
     "data": {
      "text/plain": [
       "array([1])"
      ]
     },
     "execution_count": 48,
     "metadata": {},
     "output_type": "execute_result"
    }
   ],
   "source": [
    "# Check what the model predicts on the given test data point\n",
    "clf.predict(X_test)"
   ]
  },
  {
   "cell_type": "code",
   "execution_count": 49,
   "metadata": {},
   "outputs": [
    {
     "data": {
      "text/plain": [
       "array([0])"
      ]
     },
     "execution_count": 49,
     "metadata": {},
     "output_type": "execute_result"
    }
   ],
   "source": [
    "# A salary of $1256\n",
    "X_test_abnormal = np.array([[1256.]])\n",
    "\n",
    "# Predict\n",
    "clf.predict(X_test_abnormal)"
   ]
  },
  {
   "cell_type": "code",
   "execution_count": null,
   "metadata": {},
   "outputs": [],
   "source": []
  }
 ],
 "metadata": {
  "kernelspec": {
   "display_name": "Python 3",
   "language": "python",
   "name": "python3"
  },
  "language_info": {
   "codemirror_mode": {
    "name": "ipython",
    "version": 3
   },
   "file_extension": ".py",
   "mimetype": "text/x-python",
   "name": "python",
   "nbconvert_exporter": "python",
   "pygments_lexer": "ipython3",
   "version": "3.7.4"
  }
 },
 "nbformat": 4,
 "nbformat_minor": 2
}
